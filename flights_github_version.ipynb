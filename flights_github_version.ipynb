{
 "cells": [
  {
   "cell_type": "markdown",
   "id": "84be3298",
   "metadata": {},
   "source": [
    "# Flights "
   ]
  },
  {
   "cell_type": "markdown",
   "id": "a0e3f3dd",
   "metadata": {},
   "source": [
    "Import libraries"
   ]
  },
  {
   "cell_type": "code",
   "execution_count": 139,
   "id": "932f6813",
   "metadata": {},
   "outputs": [],
   "source": [
    "import requests\n",
    "import json\n",
    "import pandas as pd\n",
    "import time\n",
    "import numpy as np\n",
    "import pymysql\n",
    "from datetime import date\n",
    "from datetime import timedelta\n",
    "import datetime"
   ]
  },
  {
   "cell_type": "markdown",
   "id": "90ecdb70",
   "metadata": {},
   "source": [
    "setting up variables"
   ]
  },
  {
   "cell_type": "code",
   "execution_count": 144,
   "id": "e1c03c1a",
   "metadata": {},
   "outputs": [],
   "source": [
    "key = API_key\n",
    "today = (date.today()).strftime(\"%Y-%m-%d\")\n",
    "tomorrow = (date.today() + timedelta(days=1)).strftime(\"%Y-%m-%d\")"
   ]
  },
  {
   "cell_type": "code",
   "execution_count": 132,
   "id": "f38f9c1c",
   "metadata": {},
   "outputs": [],
   "source": [
    "\n",
    "\n",
    "airport_list = ['EDDB','EDWR','EDDW','EDDK','EDLW','EDDC','EDDL','EDWE','EDDE','EDNY','EDDH','EDHI','EDAH','EDVK','EDRK','EDDP','EDFM','EDJA','EDDM','EDWO','EDDN','EDLP','EDLR','EDCX','ETNL','EDDR','EDDS','EDLV']\n",
    "\n",
    "time_1 = f\"{today}T00:00\"\n",
    "time_2 = f\"{today}T12:00\"\n"
   ]
  },
  {
   "cell_type": "code",
   "execution_count": 128,
   "id": "ac8837e2",
   "metadata": {},
   "outputs": [],
   "source": [
    "def calling_aerodatabox(airport_list, time_1, time_2,key):\n",
    "    df_all_flights = pd.DataFrame()\n",
    "    for airport_id in airport_list:\n",
    "        \n",
    "        url = f\"https://aerodatabox.p.rapidapi.com/flights/airports/icao/{airport_id}/{time_1}/{time_2}\"\n",
    "        querystring = {\"withLeg\":\"true\",\"withCancelled\":\"true\",\"withCodeshared\":\"true\",\"withCargo\":\"true\",\"withPrivate\":\"false\",\"withLocation\":\"false\"}\n",
    "        headers = {\"X-RapidAPI-Host\": \"aerodatabox.p.rapidapi.com\",\"X-RapidAPI-Key\": key}\n",
    "\n",
    "        response = requests.request(\"GET\", url, headers=headers, params=querystring)\n",
    "        \n",
    "        if response.status_code == 200:\n",
    "                 \n",
    "            df_inc_flights = pd.json_normalize(response.json()['arrivals'])\n",
    "            \n",
    "            df_flights_airport = df_inc_flights.filter(['status','departure.airport.name','arrival.scheduledTimeLocal','arrival.terminal','aircraft.model']).assign(icao_code = airport_id)\n",
    "        \n",
    "            df_all_flights = pd.concat([df_all_flights, df_flights_airport], ignore_index=True)\n",
    "                        \n",
    "        time.sleep(10)\n",
    "    \n",
    "    df_all_flights.rename(columns={'departure.airport.name': 'origin','arrival.scheduledTimeLocal':'arrival_time','arrival.terminal': 'terminal', 'aircraft.model' : 'aircraft' }, inplace=True)\n",
    "    df_all_flights.fillna({'terminal':'None', 'aircraft': 'None'},inplace=True)\n",
    "        \n",
    "        \n",
    "    return df_all_flights\n"
   ]
  },
  {
   "cell_type": "code",
   "execution_count": 129,
   "id": "ee3fb13e",
   "metadata": {
    "scrolled": false
   },
   "outputs": [],
   "source": [
    "df_all_flights_final = calling_aerodatabox(airport_list, time_1, time_2,key)"
   ]
  },
  {
   "cell_type": "code",
   "execution_count": 133,
   "id": "f12b314e",
   "metadata": {
    "scrolled": false
   },
   "outputs": [
    {
     "data": {
      "text/html": [
       "<div>\n",
       "<style scoped>\n",
       "    .dataframe tbody tr th:only-of-type {\n",
       "        vertical-align: middle;\n",
       "    }\n",
       "\n",
       "    .dataframe tbody tr th {\n",
       "        vertical-align: top;\n",
       "    }\n",
       "\n",
       "    .dataframe thead th {\n",
       "        text-align: right;\n",
       "    }\n",
       "</style>\n",
       "<table border=\"1\" class=\"dataframe\">\n",
       "  <thead>\n",
       "    <tr style=\"text-align: right;\">\n",
       "      <th></th>\n",
       "      <th>status</th>\n",
       "      <th>origin</th>\n",
       "      <th>arrival_time</th>\n",
       "      <th>terminal</th>\n",
       "      <th>aircraft</th>\n",
       "      <th>icao_code</th>\n",
       "    </tr>\n",
       "  </thead>\n",
       "  <tbody>\n",
       "    <tr>\n",
       "      <th>0</th>\n",
       "      <td>Arrived</td>\n",
       "      <td>Cologne</td>\n",
       "      <td>2022-04-07 05:37+02:00</td>\n",
       "      <td>None</td>\n",
       "      <td>Boeing 767</td>\n",
       "      <td>EDDB</td>\n",
       "    </tr>\n",
       "    <tr>\n",
       "      <th>1</th>\n",
       "      <td>Arrived</td>\n",
       "      <td>Unknown</td>\n",
       "      <td>2022-04-07 07:06+02:00</td>\n",
       "      <td>None</td>\n",
       "      <td>Boeing 757-200</td>\n",
       "      <td>EDDB</td>\n",
       "    </tr>\n",
       "    <tr>\n",
       "      <th>2</th>\n",
       "      <td>Arrived</td>\n",
       "      <td>Duesseldorf</td>\n",
       "      <td>2022-04-07 07:19+02:00</td>\n",
       "      <td>None</td>\n",
       "      <td>Airbus A319</td>\n",
       "      <td>EDDB</td>\n",
       "    </tr>\n",
       "    <tr>\n",
       "      <th>3</th>\n",
       "      <td>Approaching</td>\n",
       "      <td>Cologne</td>\n",
       "      <td>2022-04-07 07:25+02:00</td>\n",
       "      <td>1</td>\n",
       "      <td>Boeing 737-800</td>\n",
       "      <td>EDDB</td>\n",
       "    </tr>\n",
       "    <tr>\n",
       "      <th>4</th>\n",
       "      <td>Unknown</td>\n",
       "      <td>Duesseldorf</td>\n",
       "      <td>2022-04-07 07:35+02:00</td>\n",
       "      <td>1</td>\n",
       "      <td>Airbus A319</td>\n",
       "      <td>EDDB</td>\n",
       "    </tr>\n",
       "  </tbody>\n",
       "</table>\n",
       "</div>"
      ],
      "text/plain": [
       "        status       origin            arrival_time terminal        aircraft  \\\n",
       "0      Arrived      Cologne  2022-04-07 05:37+02:00     None      Boeing 767   \n",
       "1      Arrived      Unknown  2022-04-07 07:06+02:00     None  Boeing 757-200   \n",
       "2      Arrived  Duesseldorf  2022-04-07 07:19+02:00     None     Airbus A319   \n",
       "3  Approaching      Cologne  2022-04-07 07:25+02:00        1  Boeing 737-800   \n",
       "4      Unknown  Duesseldorf  2022-04-07 07:35+02:00        1     Airbus A319   \n",
       "\n",
       "  icao_code  \n",
       "0      EDDB  \n",
       "1      EDDB  \n",
       "2      EDDB  \n",
       "3      EDDB  \n",
       "4      EDDB  "
      ]
     },
     "execution_count": 133,
     "metadata": {},
     "output_type": "execute_result"
    }
   ],
   "source": [
    "df_all_flights_final.head()"
   ]
  },
  {
   "cell_type": "markdown",
   "id": "e0efaa96",
   "metadata": {},
   "source": [
    "# Upload data"
   ]
  },
  {
   "cell_type": "markdown",
   "id": "eb04dab6",
   "metadata": {},
   "source": [
    "setting connection to cload db"
   ]
  },
  {
   "cell_type": "code",
   "execution_count": 136,
   "id": "c75b02d3",
   "metadata": {
    "scrolled": true
   },
   "outputs": [],
   "source": [
    "user='username'\n",
    "password='userpassword'\n",
    "host='endpoint'\n",
    "database='databasename'\n",
    "port='port'"
   ]
  },
  {
   "cell_type": "code",
   "execution_count": null,
   "id": "ef5131a9",
   "metadata": {},
   "outputs": [],
   "source": [
    "con= f'mysql+pymysql://{user}:{password}@{host}:{port}/{database}'"
   ]
  },
  {
   "cell_type": "code",
   "execution_count": 138,
   "id": "d1370086",
   "metadata": {},
   "outputs": [],
   "source": [
    "df_all_flights_final.replace({np.nan},'unknown').assign(arrival_time = lambda x: pd.to_datetime(x['arrival_time'])).to_sql('flights', if_exists='append', con=con, index=False)"
   ]
  },
  {
   "cell_type": "code",
   "execution_count": null,
   "id": "50ecad97",
   "metadata": {},
   "outputs": [],
   "source": []
  }
 ],
 "metadata": {
  "kernelspec": {
   "display_name": "Python 3 (ipykernel)",
   "language": "python",
   "name": "python3"
  },
  "language_info": {
   "codemirror_mode": {
    "name": "ipython",
    "version": 3
   },
   "file_extension": ".py",
   "mimetype": "text/x-python",
   "name": "python",
   "nbconvert_exporter": "python",
   "pygments_lexer": "ipython3",
   "version": "3.9.7"
  }
 },
 "nbformat": 4,
 "nbformat_minor": 5
}
