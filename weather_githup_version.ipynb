{
 "cells": [
  {
   "cell_type": "markdown",
   "id": "808f8ef1",
   "metadata": {},
   "source": [
    "# Weather data"
   ]
  },
  {
   "cell_type": "markdown",
   "id": "bae420fc",
   "metadata": {},
   "source": [
    "importing libraries"
   ]
  },
  {
   "cell_type": "code",
   "execution_count": 104,
   "id": "d2a21829",
   "metadata": {},
   "outputs": [],
   "source": [
    "import requests\n",
    "import json\n",
    "import pandas as pd\n",
    "import time\n",
    "import numpy as np\n",
    "import pymysql\n",
    "from datetime import date\n",
    "from datetime import timedelta"
   ]
  },
  {
   "cell_type": "code",
   "execution_count": 90,
   "id": "3c81adbe",
   "metadata": {},
   "outputs": [],
   "source": [
    "today = (date.today()).strftime(\"%Y-%m-%d\")\n",
    "tomorrow = (date.today() + timedelta(days=1)).strftime(\"%Y-%m-%d\")"
   ]
  },
  {
   "cell_type": "code",
   "execution_count": 89,
   "id": "e860e7b3",
   "metadata": {},
   "outputs": [],
   "source": [
    "appID = owm_key"
   ]
  },
  {
   "cell_type": "markdown",
   "id": "9f912015",
   "metadata": {},
   "source": [
    "List of cities we are interested in"
   ]
  },
  {
   "cell_type": "code",
   "execution_count": 105,
   "id": "d3ee5cf5",
   "metadata": {},
   "outputs": [],
   "source": [
    "munic_country_list = ['Berlin,DE',\n",
    " 'Borkum,DE',\n",
    " 'Bremen,DE',\n",
    " 'Cologne,DE',\n",
    " 'Dortmund,DE',\n",
    " 'Dresden,DE',\n",
    " 'Düsseldorf,DE',\n",
    " 'Emden,DE',\n",
    " 'Erfurt,DE',\n",
    " 'Frankfurt,DE',\n",
    " 'Friedrichshafen,DE',\n",
    " 'Hamburg,DE',\n",
    " 'Hanover,DE',\n",
    " 'Heide,DE',\n",
    " 'Heligoland,DE',\n",
    " 'Heringsdorf,DE',\n",
    " 'Karlsruhe,DE',\n",
    " 'Kassel,DE',\n",
    " 'Koblenz,DE',\n",
    " 'Leipzig,DE',\n",
    " 'Halle (Saale),DE',\n",
    " 'Mannheim,DE',\n",
    " 'Memmingen,DE',\n",
    " 'Munich,DE',\n",
    " 'Osnabrück,DE',\n",
    " 'Nuremberg,DE',\n",
    " 'Paderborn,DE',\n",
    " 'Rostock,DE',\n",
    " 'Saarbrücken,DE',\n",
    " 'Stuttgart,DE',\n",
    " 'Weeze,DE']"
   ]
  },
  {
   "cell_type": "markdown",
   "id": "6ac3c0dc",
   "metadata": {},
   "source": [
    "We can't use json_normalize, because if there is no snow or rain we don't get a column for it.\n",
    "\n",
    "Need to write a function for it\n",
    "\n",
    "Looking for date and time, temperature, wind speed,probility of precipitation(pop), rain volume (rain), snow volume(snow)\n",
    "\n",
    "https://openweathermap.org/forecast5\n",
    "\n",
    "I'm just interested fo the forecast for the next day, because to get the most accurate data and I will call the weather API once a day. "
   ]
  },
  {
   "cell_type": "code",
   "execution_count": 98,
   "id": "34dbe5af",
   "metadata": {},
   "outputs": [],
   "source": [
    "def getting_weather_from_json(data_json,munic_country):\n",
    "    \n",
    "    l_aux_getting_weather = []\n",
    "    \n",
    "    for data_point in data_json: \n",
    "        dic_aux_getting_weather = {}\n",
    "        if tomorrow in data_point['dt_txt']:\n",
    "            dic_aux_getting_weather['date_time'] = data_point['dt_txt']\n",
    "            dic_aux_getting_weather['temperature'] = data_point['main']['temp']\n",
    "            dic_aux_getting_weather['wind'] = data_point['wind']['speed']\n",
    "            #have to use try except for the next 3 stats because they could be empty and not create an entry\n",
    "            try: dic_aux_getting_weather['prob_perc'] = float(data_point['pop'])\n",
    "            except: dic_aux_getting_weather['prob_perc'] = 0\n",
    "            try: dic_aux_getting_weather['rain_vol'] = float(data_point['rain']['3h'])\n",
    "            except: dic_aux_getting_weather['rain_vol'] = 0\n",
    "            try: dic_aux_getting_weather['snow_vol'] = float(data_point['snow']['3h'])\n",
    "            except: dic_aux_getting_weather['snow_vol'] = 0\n",
    "            \n",
    "            dic_aux_getting_weather['munic_country'] = munic_country\n",
    "            l_aux_getting_weather.append(dic_aux_getting_weather)\n",
    "\n",
    "    df_weather_data = pd.DataFrame(l_aux_getting_weather)\n",
    "    return df_weather_data\n"
   ]
  },
  {
   "cell_type": "markdown",
   "id": "6e5f1a00",
   "metadata": {},
   "source": [
    "Function to iterate over the list of cities"
   ]
  },
  {
   "cell_type": "code",
   "execution_count": 106,
   "id": "b338a537",
   "metadata": {},
   "outputs": [],
   "source": [
    "def calling_owm(munic_country_list,appID):\n",
    "    df_weather1 = pd.DataFrame()\n",
    "    for munic_country in munic_country_list:\n",
    "\n",
    "        response = requests.get(f'http://api.openweathermap.org/data/2.5/forecast/?q={munic_country}&appid={appID}&units=metric&lang=en')\n",
    "\n",
    "        \n",
    "        if response.status_code == 200:\n",
    "            \n",
    "            data_json = response.json()['list']\n",
    "            \n",
    "            df_weather2 = getting_weather_from_json(data_json,munic_country)\n",
    "            df_weather1 = pd.concat([df_weather1, df_weather2], ignore_index=True)\n",
    "                        \n",
    "        time.sleep(10)\n",
    "        \n",
    "    return df_weather1\n"
   ]
  },
  {
   "cell_type": "markdown",
   "id": "ee633652",
   "metadata": {},
   "source": [
    "Calling the function"
   ]
  },
  {
   "cell_type": "code",
   "execution_count": 108,
   "id": "ae35059d",
   "metadata": {},
   "outputs": [],
   "source": [
    "df_weather_data_full = calling_owm(munic_country_list,appID)"
   ]
  },
  {
   "cell_type": "markdown",
   "id": "ad107921",
   "metadata": {},
   "source": [
    "Example dataframe just for Berlin and Bremen the next day"
   ]
  },
  {
   "cell_type": "code",
   "execution_count": 109,
   "id": "34ab4bc5",
   "metadata": {
    "scrolled": false
   },
   "outputs": [
    {
     "data": {
      "text/html": [
       "<div>\n",
       "<style scoped>\n",
       "    .dataframe tbody tr th:only-of-type {\n",
       "        vertical-align: middle;\n",
       "    }\n",
       "\n",
       "    .dataframe tbody tr th {\n",
       "        vertical-align: top;\n",
       "    }\n",
       "\n",
       "    .dataframe thead th {\n",
       "        text-align: right;\n",
       "    }\n",
       "</style>\n",
       "<table border=\"1\" class=\"dataframe\">\n",
       "  <thead>\n",
       "    <tr style=\"text-align: right;\">\n",
       "      <th></th>\n",
       "      <th>date_time</th>\n",
       "      <th>temperature</th>\n",
       "      <th>wind</th>\n",
       "      <th>prob_perc</th>\n",
       "      <th>rain_vol</th>\n",
       "      <th>snow_vol</th>\n",
       "      <th>munic_country</th>\n",
       "    </tr>\n",
       "  </thead>\n",
       "  <tbody>\n",
       "    <tr>\n",
       "      <th>0</th>\n",
       "      <td>2022-04-11 00:00:00</td>\n",
       "      <td>3.49</td>\n",
       "      <td>4.00</td>\n",
       "      <td>0.00</td>\n",
       "      <td>0</td>\n",
       "      <td>0</td>\n",
       "      <td>Berlin,DE</td>\n",
       "    </tr>\n",
       "    <tr>\n",
       "      <th>1</th>\n",
       "      <td>2022-04-11 03:00:00</td>\n",
       "      <td>2.14</td>\n",
       "      <td>3.61</td>\n",
       "      <td>0.00</td>\n",
       "      <td>0</td>\n",
       "      <td>0</td>\n",
       "      <td>Berlin,DE</td>\n",
       "    </tr>\n",
       "    <tr>\n",
       "      <th>2</th>\n",
       "      <td>2022-04-11 06:00:00</td>\n",
       "      <td>3.15</td>\n",
       "      <td>3.82</td>\n",
       "      <td>0.00</td>\n",
       "      <td>0</td>\n",
       "      <td>0</td>\n",
       "      <td>Berlin,DE</td>\n",
       "    </tr>\n",
       "    <tr>\n",
       "      <th>3</th>\n",
       "      <td>2022-04-11 09:00:00</td>\n",
       "      <td>7.90</td>\n",
       "      <td>3.94</td>\n",
       "      <td>0.03</td>\n",
       "      <td>0</td>\n",
       "      <td>0</td>\n",
       "      <td>Berlin,DE</td>\n",
       "    </tr>\n",
       "    <tr>\n",
       "      <th>4</th>\n",
       "      <td>2022-04-11 12:00:00</td>\n",
       "      <td>10.57</td>\n",
       "      <td>3.62</td>\n",
       "      <td>0.00</td>\n",
       "      <td>0</td>\n",
       "      <td>0</td>\n",
       "      <td>Berlin,DE</td>\n",
       "    </tr>\n",
       "    <tr>\n",
       "      <th>5</th>\n",
       "      <td>2022-04-11 15:00:00</td>\n",
       "      <td>11.48</td>\n",
       "      <td>3.43</td>\n",
       "      <td>0.00</td>\n",
       "      <td>0</td>\n",
       "      <td>0</td>\n",
       "      <td>Berlin,DE</td>\n",
       "    </tr>\n",
       "    <tr>\n",
       "      <th>6</th>\n",
       "      <td>2022-04-11 18:00:00</td>\n",
       "      <td>8.00</td>\n",
       "      <td>2.60</td>\n",
       "      <td>0.00</td>\n",
       "      <td>0</td>\n",
       "      <td>0</td>\n",
       "      <td>Berlin,DE</td>\n",
       "    </tr>\n",
       "    <tr>\n",
       "      <th>7</th>\n",
       "      <td>2022-04-11 21:00:00</td>\n",
       "      <td>5.36</td>\n",
       "      <td>2.52</td>\n",
       "      <td>0.00</td>\n",
       "      <td>0</td>\n",
       "      <td>0</td>\n",
       "      <td>Berlin,DE</td>\n",
       "    </tr>\n",
       "    <tr>\n",
       "      <th>8</th>\n",
       "      <td>2022-04-11 00:00:00</td>\n",
       "      <td>0.61</td>\n",
       "      <td>3.08</td>\n",
       "      <td>0.00</td>\n",
       "      <td>0</td>\n",
       "      <td>0</td>\n",
       "      <td>Bremen,DE</td>\n",
       "    </tr>\n",
       "    <tr>\n",
       "      <th>9</th>\n",
       "      <td>2022-04-11 03:00:00</td>\n",
       "      <td>-0.18</td>\n",
       "      <td>2.66</td>\n",
       "      <td>0.00</td>\n",
       "      <td>0</td>\n",
       "      <td>0</td>\n",
       "      <td>Bremen,DE</td>\n",
       "    </tr>\n",
       "    <tr>\n",
       "      <th>10</th>\n",
       "      <td>2022-04-11 06:00:00</td>\n",
       "      <td>2.27</td>\n",
       "      <td>1.66</td>\n",
       "      <td>0.00</td>\n",
       "      <td>0</td>\n",
       "      <td>0</td>\n",
       "      <td>Bremen,DE</td>\n",
       "    </tr>\n",
       "    <tr>\n",
       "      <th>11</th>\n",
       "      <td>2022-04-11 09:00:00</td>\n",
       "      <td>8.28</td>\n",
       "      <td>1.94</td>\n",
       "      <td>0.00</td>\n",
       "      <td>0</td>\n",
       "      <td>0</td>\n",
       "      <td>Bremen,DE</td>\n",
       "    </tr>\n",
       "    <tr>\n",
       "      <th>12</th>\n",
       "      <td>2022-04-11 12:00:00</td>\n",
       "      <td>10.87</td>\n",
       "      <td>1.65</td>\n",
       "      <td>0.00</td>\n",
       "      <td>0</td>\n",
       "      <td>0</td>\n",
       "      <td>Bremen,DE</td>\n",
       "    </tr>\n",
       "    <tr>\n",
       "      <th>13</th>\n",
       "      <td>2022-04-11 15:00:00</td>\n",
       "      <td>11.69</td>\n",
       "      <td>0.91</td>\n",
       "      <td>0.00</td>\n",
       "      <td>0</td>\n",
       "      <td>0</td>\n",
       "      <td>Bremen,DE</td>\n",
       "    </tr>\n",
       "    <tr>\n",
       "      <th>14</th>\n",
       "      <td>2022-04-11 18:00:00</td>\n",
       "      <td>6.85</td>\n",
       "      <td>2.65</td>\n",
       "      <td>0.00</td>\n",
       "      <td>0</td>\n",
       "      <td>0</td>\n",
       "      <td>Bremen,DE</td>\n",
       "    </tr>\n",
       "    <tr>\n",
       "      <th>15</th>\n",
       "      <td>2022-04-11 21:00:00</td>\n",
       "      <td>3.50</td>\n",
       "      <td>3.32</td>\n",
       "      <td>0.00</td>\n",
       "      <td>0</td>\n",
       "      <td>0</td>\n",
       "      <td>Bremen,DE</td>\n",
       "    </tr>\n",
       "  </tbody>\n",
       "</table>\n",
       "</div>"
      ],
      "text/plain": [
       "              date_time  temperature  wind  prob_perc  rain_vol  snow_vol  \\\n",
       "0   2022-04-11 00:00:00         3.49  4.00       0.00         0         0   \n",
       "1   2022-04-11 03:00:00         2.14  3.61       0.00         0         0   \n",
       "2   2022-04-11 06:00:00         3.15  3.82       0.00         0         0   \n",
       "3   2022-04-11 09:00:00         7.90  3.94       0.03         0         0   \n",
       "4   2022-04-11 12:00:00        10.57  3.62       0.00         0         0   \n",
       "5   2022-04-11 15:00:00        11.48  3.43       0.00         0         0   \n",
       "6   2022-04-11 18:00:00         8.00  2.60       0.00         0         0   \n",
       "7   2022-04-11 21:00:00         5.36  2.52       0.00         0         0   \n",
       "8   2022-04-11 00:00:00         0.61  3.08       0.00         0         0   \n",
       "9   2022-04-11 03:00:00        -0.18  2.66       0.00         0         0   \n",
       "10  2022-04-11 06:00:00         2.27  1.66       0.00         0         0   \n",
       "11  2022-04-11 09:00:00         8.28  1.94       0.00         0         0   \n",
       "12  2022-04-11 12:00:00        10.87  1.65       0.00         0         0   \n",
       "13  2022-04-11 15:00:00        11.69  0.91       0.00         0         0   \n",
       "14  2022-04-11 18:00:00         6.85  2.65       0.00         0         0   \n",
       "15  2022-04-11 21:00:00         3.50  3.32       0.00         0         0   \n",
       "\n",
       "   munic_country  \n",
       "0      Berlin,DE  \n",
       "1      Berlin,DE  \n",
       "2      Berlin,DE  \n",
       "3      Berlin,DE  \n",
       "4      Berlin,DE  \n",
       "5      Berlin,DE  \n",
       "6      Berlin,DE  \n",
       "7      Berlin,DE  \n",
       "8      Bremen,DE  \n",
       "9      Bremen,DE  \n",
       "10     Bremen,DE  \n",
       "11     Bremen,DE  \n",
       "12     Bremen,DE  \n",
       "13     Bremen,DE  \n",
       "14     Bremen,DE  \n",
       "15     Bremen,DE  "
      ]
     },
     "execution_count": 109,
     "metadata": {},
     "output_type": "execute_result"
    }
   ],
   "source": [
    "df_weather_data_full"
   ]
  },
  {
   "cell_type": "markdown",
   "id": "edbf4100",
   "metadata": {},
   "source": [
    "Changing the type of the date_time column"
   ]
  },
  {
   "cell_type": "code",
   "execution_count": 111,
   "id": "6454cd35",
   "metadata": {},
   "outputs": [],
   "source": [
    "df_weather_data_full = df_weather_data_full.assign(date_time = lambda x: pd.to_datetime(x['date_time']))"
   ]
  },
  {
   "cell_type": "markdown",
   "id": "799602c1",
   "metadata": {},
   "source": [
    "# Upload data to cloud"
   ]
  },
  {
   "cell_type": "markdown",
   "id": "0af67b20",
   "metadata": {},
   "source": [
    "setting up connection"
   ]
  },
  {
   "cell_type": "code",
   "execution_count": 113,
   "id": "79869c09",
   "metadata": {},
   "outputs": [],
   "source": [
    "user=user_id\n",
    "password=password\n",
    "host=endpoint\n",
    "database=db_name\n",
    "port=port\n"
   ]
  },
  {
   "cell_type": "code",
   "execution_count": 114,
   "id": "6fe3601c",
   "metadata": {},
   "outputs": [],
   "source": [
    "con= f'mysql+pymysql://{user}:{password}@{host}:{port}/{database}'"
   ]
  },
  {
   "cell_type": "code",
   "execution_count": 25,
   "id": "4f52c02e",
   "metadata": {},
   "outputs": [],
   "source": [
    "df_weather_data_full.to_sql('weather', if_exists='append', con=con, index=False)"
   ]
  }
 ],
 "metadata": {
  "kernelspec": {
   "display_name": "Python 3 (ipykernel)",
   "language": "python",
   "name": "python3"
  },
  "language_info": {
   "codemirror_mode": {
    "name": "ipython",
    "version": 3
   },
   "file_extension": ".py",
   "mimetype": "text/x-python",
   "name": "python",
   "nbconvert_exporter": "python",
   "pygments_lexer": "ipython3",
   "version": "3.9.7"
  }
 },
 "nbformat": 4,
 "nbformat_minor": 5
}
